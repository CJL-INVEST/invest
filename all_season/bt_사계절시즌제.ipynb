{
  "nbformat": 4,
  "nbformat_minor": 0,
  "metadata": {
    "colab": {
      "name": "bt_사계절시즌제.ipynb",
      "provenance": [],
      "collapsed_sections": [],
      "authorship_tag": "ABX9TyMQKjK4NPTnK1NbL852mDOo",
      "include_colab_link": true
    },
    "kernelspec": {
      "name": "python3",
      "display_name": "Python 3"
    },
    "language_info": {
      "name": "python"
    }
  },
  "cells": [
    {
      "cell_type": "markdown",
      "metadata": {
        "id": "view-in-github",
        "colab_type": "text"
      },
      "source": [
        "<a href=\"https://colab.research.google.com/github/chanlee4345/invest/blob/main/bt_%EC%82%AC%EA%B3%84%EC%A0%88%EC%8B%9C%EC%A6%8C%EC%A0%9C.ipynb\" target=\"_parent\"><img src=\"https://colab.research.google.com/assets/colab-badge.svg\" alt=\"Open In Colab\"/></a>"
      ]
    },
    {
      "cell_type": "code",
      "execution_count": 1,
      "metadata": {
        "colab": {
          "base_uri": "https://localhost:8080/"
        },
        "id": "3JPySo57S0mX",
        "outputId": "79e79dcb-8525-493c-c120-ae898917dfe7"
      },
      "outputs": [
        {
          "output_type": "stream",
          "name": "stdout",
          "text": [
            "Looking in indexes: https://pypi.org/simple, https://us-python.pkg.dev/colab-wheels/public/simple/\n",
            "Collecting bt\n",
            "  Downloading bt-0.2.9.tar.gz (2.7 MB)\n",
            "\u001b[K     |████████████████████████████████| 2.7 MB 5.1 MB/s \n",
            "\u001b[?25h  Installing build dependencies ... \u001b[?25l\u001b[?25hdone\n",
            "  Getting requirements to build wheel ... \u001b[?25l\u001b[?25hdone\n",
            "    Preparing wheel metadata ... \u001b[?25l\u001b[?25hdone\n",
            "Collecting ffn>=0.3.5\n",
            "  Downloading ffn-0.3.6-py2.py3-none-any.whl (25 kB)\n",
            "Collecting pyprind>=2.11\n",
            "  Downloading PyPrind-2.11.3-py2.py3-none-any.whl (8.4 kB)\n",
            "Requirement already satisfied: tabulate>=0.7.5 in /usr/local/lib/python3.7/dist-packages (from ffn>=0.3.5->bt) (0.8.10)\n",
            "Requirement already satisfied: matplotlib>=1 in /usr/local/lib/python3.7/dist-packages (from ffn>=0.3.5->bt) (3.2.2)\n",
            "Requirement already satisfied: pandas>=0.19 in /usr/local/lib/python3.7/dist-packages (from ffn>=0.3.5->bt) (1.3.5)\n",
            "Requirement already satisfied: numpy>=1.5 in /usr/local/lib/python3.7/dist-packages (from ffn>=0.3.5->bt) (1.21.6)\n",
            "Requirement already satisfied: scikit-learn>=0.15 in /usr/local/lib/python3.7/dist-packages (from ffn>=0.3.5->bt) (1.0.2)\n",
            "Requirement already satisfied: scipy>=0.15 in /usr/local/lib/python3.7/dist-packages (from ffn>=0.3.5->bt) (1.7.3)\n",
            "Requirement already satisfied: future>=0.15 in /usr/local/lib/python3.7/dist-packages (from ffn>=0.3.5->bt) (0.16.0)\n",
            "Requirement already satisfied: pandas-datareader>=0.2 in /usr/local/lib/python3.7/dist-packages (from ffn>=0.3.5->bt) (0.9.0)\n",
            "Requirement already satisfied: decorator>=4 in /usr/local/lib/python3.7/dist-packages (from ffn>=0.3.5->bt) (4.4.2)\n",
            "Requirement already satisfied: cycler>=0.10 in /usr/local/lib/python3.7/dist-packages (from matplotlib>=1->ffn>=0.3.5->bt) (0.11.0)\n",
            "Requirement already satisfied: kiwisolver>=1.0.1 in /usr/local/lib/python3.7/dist-packages (from matplotlib>=1->ffn>=0.3.5->bt) (1.4.4)\n",
            "Requirement already satisfied: python-dateutil>=2.1 in /usr/local/lib/python3.7/dist-packages (from matplotlib>=1->ffn>=0.3.5->bt) (2.8.2)\n",
            "Requirement already satisfied: pyparsing!=2.0.4,!=2.1.2,!=2.1.6,>=2.0.1 in /usr/local/lib/python3.7/dist-packages (from matplotlib>=1->ffn>=0.3.5->bt) (3.0.9)\n",
            "Requirement already satisfied: typing-extensions in /usr/local/lib/python3.7/dist-packages (from kiwisolver>=1.0.1->matplotlib>=1->ffn>=0.3.5->bt) (4.1.1)\n",
            "Requirement already satisfied: pytz>=2017.3 in /usr/local/lib/python3.7/dist-packages (from pandas>=0.19->ffn>=0.3.5->bt) (2022.1)\n",
            "Requirement already satisfied: requests>=2.19.0 in /usr/local/lib/python3.7/dist-packages (from pandas-datareader>=0.2->ffn>=0.3.5->bt) (2.23.0)\n",
            "Requirement already satisfied: lxml in /usr/local/lib/python3.7/dist-packages (from pandas-datareader>=0.2->ffn>=0.3.5->bt) (4.9.1)\n",
            "Requirement already satisfied: six>=1.5 in /usr/local/lib/python3.7/dist-packages (from python-dateutil>=2.1->matplotlib>=1->ffn>=0.3.5->bt) (1.15.0)\n",
            "Requirement already satisfied: urllib3!=1.25.0,!=1.25.1,<1.26,>=1.21.1 in /usr/local/lib/python3.7/dist-packages (from requests>=2.19.0->pandas-datareader>=0.2->ffn>=0.3.5->bt) (1.24.3)\n",
            "Requirement already satisfied: chardet<4,>=3.0.2 in /usr/local/lib/python3.7/dist-packages (from requests>=2.19.0->pandas-datareader>=0.2->ffn>=0.3.5->bt) (3.0.4)\n",
            "Requirement already satisfied: idna<3,>=2.5 in /usr/local/lib/python3.7/dist-packages (from requests>=2.19.0->pandas-datareader>=0.2->ffn>=0.3.5->bt) (2.10)\n",
            "Requirement already satisfied: certifi>=2017.4.17 in /usr/local/lib/python3.7/dist-packages (from requests>=2.19.0->pandas-datareader>=0.2->ffn>=0.3.5->bt) (2022.6.15)\n",
            "Requirement already satisfied: joblib>=0.11 in /usr/local/lib/python3.7/dist-packages (from scikit-learn>=0.15->ffn>=0.3.5->bt) (1.1.0)\n",
            "Requirement already satisfied: threadpoolctl>=2.0.0 in /usr/local/lib/python3.7/dist-packages (from scikit-learn>=0.15->ffn>=0.3.5->bt) (3.1.0)\n",
            "Building wheels for collected packages: bt\n",
            "  Building wheel for bt (PEP 517) ... \u001b[?25l\u001b[?25hdone\n",
            "  Created wheel for bt: filename=bt-0.2.9-cp37-cp37m-linux_x86_64.whl size=765317 sha256=87a98c5eb8c420d51eabf622bd15d0c5fad2cc2d7857f7758a96de8926a53e33\n",
            "  Stored in directory: /root/.cache/pip/wheels/c5/1a/3f/b56e6064b766c107f25e200969161c09ca6868cbfe0eaa31e4\n",
            "Successfully built bt\n",
            "Installing collected packages: pyprind, ffn, bt\n",
            "Successfully installed bt-0.2.9 ffn-0.3.6 pyprind-2.11.3\n",
            "Looking in indexes: https://pypi.org/simple, https://us-python.pkg.dev/colab-wheels/public/simple/\n",
            "Collecting finterstellar\n",
            "  Downloading finterstellar-0.1.19-py3-none-any.whl (12 kB)\n",
            "Collecting pandas-datareader>=0.10.0\n",
            "  Downloading pandas_datareader-0.10.0-py3-none-any.whl (109 kB)\n",
            "\u001b[K     |████████████████████████████████| 109 kB 5.0 MB/s \n",
            "\u001b[?25hRequirement already satisfied: lxml>=4.2.6 in /usr/local/lib/python3.7/dist-packages (from finterstellar) (4.9.1)\n",
            "Requirement already satisfied: requests>=2.23.0 in /usr/local/lib/python3.7/dist-packages (from finterstellar) (2.23.0)\n",
            "Requirement already satisfied: pandas>=1.1.4 in /usr/local/lib/python3.7/dist-packages (from finterstellar) (1.3.5)\n",
            "Requirement already satisfied: numpy>=1.19.3 in /usr/local/lib/python3.7/dist-packages (from finterstellar) (1.21.6)\n",
            "Requirement already satisfied: python-dateutil>=2.7.3 in /usr/local/lib/python3.7/dist-packages (from pandas>=1.1.4->finterstellar) (2.8.2)\n",
            "Requirement already satisfied: pytz>=2017.3 in /usr/local/lib/python3.7/dist-packages (from pandas>=1.1.4->finterstellar) (2022.1)\n",
            "Requirement already satisfied: six>=1.5 in /usr/local/lib/python3.7/dist-packages (from python-dateutil>=2.7.3->pandas>=1.1.4->finterstellar) (1.15.0)\n",
            "Requirement already satisfied: certifi>=2017.4.17 in /usr/local/lib/python3.7/dist-packages (from requests>=2.23.0->finterstellar) (2022.6.15)\n",
            "Requirement already satisfied: chardet<4,>=3.0.2 in /usr/local/lib/python3.7/dist-packages (from requests>=2.23.0->finterstellar) (3.0.4)\n",
            "Requirement already satisfied: urllib3!=1.25.0,!=1.25.1,<1.26,>=1.21.1 in /usr/local/lib/python3.7/dist-packages (from requests>=2.23.0->finterstellar) (1.24.3)\n",
            "Requirement already satisfied: idna<3,>=2.5 in /usr/local/lib/python3.7/dist-packages (from requests>=2.23.0->finterstellar) (2.10)\n",
            "Installing collected packages: pandas-datareader, finterstellar\n",
            "  Attempting uninstall: pandas-datareader\n",
            "    Found existing installation: pandas-datareader 0.9.0\n",
            "    Uninstalling pandas-datareader-0.9.0:\n",
            "      Successfully uninstalled pandas-datareader-0.9.0\n",
            "Successfully installed finterstellar-0.1.19 pandas-datareader-0.10.0\n"
          ]
        }
      ],
      "source": [
        "!pip install bt\n",
        "!pip install finterstellar"
      ]
    },
    {
      "cell_type": "code",
      "source": [
        "import bt\n",
        "import finterstellar as fs\n",
        "import pandas as pd\n",
        "%matplotlib inline"
      ],
      "metadata": {
        "id": "d5cjzr4pTJOZ"
      },
      "execution_count": 2,
      "outputs": []
    },
    {
      "cell_type": "code",
      "source": [
        "U = ['SPY','IEF','TLT','GLD','DBC']\n",
        "initial_capital = 100000.0"
      ],
      "metadata": {
        "id": "_KqtnOJxTZT8"
      },
      "execution_count": 3,
      "outputs": []
    },
    {
      "cell_type": "code",
      "source": [
        "df = pd.DataFrame()\n",
        "for ticker in U:\n",
        "  df[ticker] = fs.get_ohlc(ticker, start_date='2001-01-01')['Adj Close']\n",
        "df = df.dropna()\n",
        "df['CASH'] = 100.00\n",
        "df"
      ],
      "metadata": {
        "colab": {
          "base_uri": "https://localhost:8080/",
          "height": 455
        },
        "id": "OSVQeDY6Tc4e",
        "outputId": "ca8c3ccf-b9b9-40ed-9142-57f9aeb881ea"
      },
      "execution_count": 101,
      "outputs": [
        {
          "output_type": "execute_result",
          "data": {
            "text/plain": [
              "              SPY    IEF    TLT    GLD   DBC   CASH\n",
              "Date                                               \n",
              "2006-02-06  91.71  55.38  55.26  56.72 22.05 100.00\n",
              "2006-02-07  90.90  55.32  55.00  54.60 21.41 100.00\n",
              "2006-02-08  91.72  55.28  54.87  54.83 21.32 100.00\n",
              "2006-02-09  91.57  55.34  55.12  56.18 21.52 100.00\n",
              "2006-02-10  91.74  55.18  54.82  54.79 21.13 100.00\n",
              "...           ...    ...    ...    ...   ...    ...\n",
              "2022-07-26 390.89 103.75 117.27 160.04 25.39 100.00\n",
              "2022-07-27 401.04 103.96 116.61 161.67 25.97 100.00\n",
              "2022-07-28 406.07 104.99 117.54 163.64 25.99 100.00\n",
              "2022-07-29 411.99 105.03 117.22 164.10 26.11 100.00\n",
              "2022-08-01 410.77 105.60 120.04 165.03 25.58 100.00\n",
              "\n",
              "[4150 rows x 6 columns]"
            ],
            "text/html": [
              "\n",
              "  <div id=\"df-66a3de36-e78f-49f5-9e1a-25d9d4f33005\">\n",
              "    <div class=\"colab-df-container\">\n",
              "      <div>\n",
              "<style scoped>\n",
              "    .dataframe tbody tr th:only-of-type {\n",
              "        vertical-align: middle;\n",
              "    }\n",
              "\n",
              "    .dataframe tbody tr th {\n",
              "        vertical-align: top;\n",
              "    }\n",
              "\n",
              "    .dataframe thead th {\n",
              "        text-align: right;\n",
              "    }\n",
              "</style>\n",
              "<table border=\"1\" class=\"dataframe\">\n",
              "  <thead>\n",
              "    <tr style=\"text-align: right;\">\n",
              "      <th></th>\n",
              "      <th>SPY</th>\n",
              "      <th>IEF</th>\n",
              "      <th>TLT</th>\n",
              "      <th>GLD</th>\n",
              "      <th>DBC</th>\n",
              "      <th>CASH</th>\n",
              "    </tr>\n",
              "    <tr>\n",
              "      <th>Date</th>\n",
              "      <th></th>\n",
              "      <th></th>\n",
              "      <th></th>\n",
              "      <th></th>\n",
              "      <th></th>\n",
              "      <th></th>\n",
              "    </tr>\n",
              "  </thead>\n",
              "  <tbody>\n",
              "    <tr>\n",
              "      <th>2006-02-06</th>\n",
              "      <td>91.71</td>\n",
              "      <td>55.38</td>\n",
              "      <td>55.26</td>\n",
              "      <td>56.72</td>\n",
              "      <td>22.05</td>\n",
              "      <td>100.00</td>\n",
              "    </tr>\n",
              "    <tr>\n",
              "      <th>2006-02-07</th>\n",
              "      <td>90.90</td>\n",
              "      <td>55.32</td>\n",
              "      <td>55.00</td>\n",
              "      <td>54.60</td>\n",
              "      <td>21.41</td>\n",
              "      <td>100.00</td>\n",
              "    </tr>\n",
              "    <tr>\n",
              "      <th>2006-02-08</th>\n",
              "      <td>91.72</td>\n",
              "      <td>55.28</td>\n",
              "      <td>54.87</td>\n",
              "      <td>54.83</td>\n",
              "      <td>21.32</td>\n",
              "      <td>100.00</td>\n",
              "    </tr>\n",
              "    <tr>\n",
              "      <th>2006-02-09</th>\n",
              "      <td>91.57</td>\n",
              "      <td>55.34</td>\n",
              "      <td>55.12</td>\n",
              "      <td>56.18</td>\n",
              "      <td>21.52</td>\n",
              "      <td>100.00</td>\n",
              "    </tr>\n",
              "    <tr>\n",
              "      <th>2006-02-10</th>\n",
              "      <td>91.74</td>\n",
              "      <td>55.18</td>\n",
              "      <td>54.82</td>\n",
              "      <td>54.79</td>\n",
              "      <td>21.13</td>\n",
              "      <td>100.00</td>\n",
              "    </tr>\n",
              "    <tr>\n",
              "      <th>...</th>\n",
              "      <td>...</td>\n",
              "      <td>...</td>\n",
              "      <td>...</td>\n",
              "      <td>...</td>\n",
              "      <td>...</td>\n",
              "      <td>...</td>\n",
              "    </tr>\n",
              "    <tr>\n",
              "      <th>2022-07-26</th>\n",
              "      <td>390.89</td>\n",
              "      <td>103.75</td>\n",
              "      <td>117.27</td>\n",
              "      <td>160.04</td>\n",
              "      <td>25.39</td>\n",
              "      <td>100.00</td>\n",
              "    </tr>\n",
              "    <tr>\n",
              "      <th>2022-07-27</th>\n",
              "      <td>401.04</td>\n",
              "      <td>103.96</td>\n",
              "      <td>116.61</td>\n",
              "      <td>161.67</td>\n",
              "      <td>25.97</td>\n",
              "      <td>100.00</td>\n",
              "    </tr>\n",
              "    <tr>\n",
              "      <th>2022-07-28</th>\n",
              "      <td>406.07</td>\n",
              "      <td>104.99</td>\n",
              "      <td>117.54</td>\n",
              "      <td>163.64</td>\n",
              "      <td>25.99</td>\n",
              "      <td>100.00</td>\n",
              "    </tr>\n",
              "    <tr>\n",
              "      <th>2022-07-29</th>\n",
              "      <td>411.99</td>\n",
              "      <td>105.03</td>\n",
              "      <td>117.22</td>\n",
              "      <td>164.10</td>\n",
              "      <td>26.11</td>\n",
              "      <td>100.00</td>\n",
              "    </tr>\n",
              "    <tr>\n",
              "      <th>2022-08-01</th>\n",
              "      <td>410.77</td>\n",
              "      <td>105.60</td>\n",
              "      <td>120.04</td>\n",
              "      <td>165.03</td>\n",
              "      <td>25.58</td>\n",
              "      <td>100.00</td>\n",
              "    </tr>\n",
              "  </tbody>\n",
              "</table>\n",
              "<p>4150 rows × 6 columns</p>\n",
              "</div>\n",
              "      <button class=\"colab-df-convert\" onclick=\"convertToInteractive('df-66a3de36-e78f-49f5-9e1a-25d9d4f33005')\"\n",
              "              title=\"Convert this dataframe to an interactive table.\"\n",
              "              style=\"display:none;\">\n",
              "        \n",
              "  <svg xmlns=\"http://www.w3.org/2000/svg\" height=\"24px\"viewBox=\"0 0 24 24\"\n",
              "       width=\"24px\">\n",
              "    <path d=\"M0 0h24v24H0V0z\" fill=\"none\"/>\n",
              "    <path d=\"M18.56 5.44l.94 2.06.94-2.06 2.06-.94-2.06-.94-.94-2.06-.94 2.06-2.06.94zm-11 1L8.5 8.5l.94-2.06 2.06-.94-2.06-.94L8.5 2.5l-.94 2.06-2.06.94zm10 10l.94 2.06.94-2.06 2.06-.94-2.06-.94-.94-2.06-.94 2.06-2.06.94z\"/><path d=\"M17.41 7.96l-1.37-1.37c-.4-.4-.92-.59-1.43-.59-.52 0-1.04.2-1.43.59L10.3 9.45l-7.72 7.72c-.78.78-.78 2.05 0 2.83L4 21.41c.39.39.9.59 1.41.59.51 0 1.02-.2 1.41-.59l7.78-7.78 2.81-2.81c.8-.78.8-2.07 0-2.86zM5.41 20L4 18.59l7.72-7.72 1.47 1.35L5.41 20z\"/>\n",
              "  </svg>\n",
              "      </button>\n",
              "      \n",
              "  <style>\n",
              "    .colab-df-container {\n",
              "      display:flex;\n",
              "      flex-wrap:wrap;\n",
              "      gap: 12px;\n",
              "    }\n",
              "\n",
              "    .colab-df-convert {\n",
              "      background-color: #E8F0FE;\n",
              "      border: none;\n",
              "      border-radius: 50%;\n",
              "      cursor: pointer;\n",
              "      display: none;\n",
              "      fill: #1967D2;\n",
              "      height: 32px;\n",
              "      padding: 0 0 0 0;\n",
              "      width: 32px;\n",
              "    }\n",
              "\n",
              "    .colab-df-convert:hover {\n",
              "      background-color: #E2EBFA;\n",
              "      box-shadow: 0px 1px 2px rgba(60, 64, 67, 0.3), 0px 1px 3px 1px rgba(60, 64, 67, 0.15);\n",
              "      fill: #174EA6;\n",
              "    }\n",
              "\n",
              "    [theme=dark] .colab-df-convert {\n",
              "      background-color: #3B4455;\n",
              "      fill: #D2E3FC;\n",
              "    }\n",
              "\n",
              "    [theme=dark] .colab-df-convert:hover {\n",
              "      background-color: #434B5C;\n",
              "      box-shadow: 0px 1px 3px 1px rgba(0, 0, 0, 0.15);\n",
              "      filter: drop-shadow(0px 1px 2px rgba(0, 0, 0, 0.3));\n",
              "      fill: #FFFFFF;\n",
              "    }\n",
              "  </style>\n",
              "\n",
              "      <script>\n",
              "        const buttonEl =\n",
              "          document.querySelector('#df-66a3de36-e78f-49f5-9e1a-25d9d4f33005 button.colab-df-convert');\n",
              "        buttonEl.style.display =\n",
              "          google.colab.kernel.accessAllowed ? 'block' : 'none';\n",
              "\n",
              "        async function convertToInteractive(key) {\n",
              "          const element = document.querySelector('#df-66a3de36-e78f-49f5-9e1a-25d9d4f33005');\n",
              "          const dataTable =\n",
              "            await google.colab.kernel.invokeFunction('convertToInteractive',\n",
              "                                                     [key], {});\n",
              "          if (!dataTable) return;\n",
              "\n",
              "          const docLinkHtml = 'Like what you see? Visit the ' +\n",
              "            '<a target=\"_blank\" href=https://colab.research.google.com/notebooks/data_table.ipynb>data table notebook</a>'\n",
              "            + ' to learn more about interactive tables.';\n",
              "          element.innerHTML = '';\n",
              "          dataTable['output_type'] = 'display_data';\n",
              "          await google.colab.output.renderOutput(dataTable, element);\n",
              "          const docLink = document.createElement('div');\n",
              "          docLink.innerHTML = docLinkHtml;\n",
              "          element.appendChild(docLink);\n",
              "        }\n",
              "      </script>\n",
              "    </div>\n",
              "  </div>\n",
              "  "
            ]
          },
          "metadata": {},
          "execution_count": 101
        }
      ]
    },
    {
      "cell_type": "markdown",
      "source": [
        "# all season 전략, SPY buy & hold"
      ],
      "metadata": {
        "id": "rIQybu9_ZEGb"
      }
    },
    {
      "cell_type": "code",
      "source": [
        "s1 = bt.Strategy('all_season',\n",
        "                [bt.algos.RunMonthly(run_on_end_of_period=True),\n",
        "                 bt.algos.SelectAll(),\n",
        "                 bt.algos.WeighSpecified(SPY=0.3,IEF=0.15,TLT=0.4,GLD=0.075,DBC=0.075),\n",
        "                 bt.algos.Rebalance(),\n",
        "                 ])\n",
        "bt1 = bt.Backtest(s1, df, initial_capital=initial_capital)"
      ],
      "metadata": {
        "id": "ZNlOU_G9U6GR"
      },
      "execution_count": 102,
      "outputs": []
    },
    {
      "cell_type": "code",
      "source": [
        "def buy_and_hold(data, name='buy_and_hold'):\n",
        "  s = bt.Strategy(name, [bt.algos.RunOnce(),\n",
        "                         bt.algos.SelectAll(),\n",
        "                         bt.algos.WeighEqually(),\n",
        "                         bt.algos.Rebalance()])\n",
        "  return bt.Backtest(s, data, initial_capital=initial_capital)"
      ],
      "metadata": {
        "id": "qsU2koLzVBuB"
      },
      "execution_count": 103,
      "outputs": []
    },
    {
      "cell_type": "code",
      "source": [
        "spy = buy_and_hold(df['SPY'].to_frame(), name='spy')"
      ],
      "metadata": {
        "id": "iuvlW27qVCFM"
      },
      "execution_count": 104,
      "outputs": []
    },
    {
      "cell_type": "markdown",
      "source": [
        "# all season 시즌제\n",
        "- 11월에서 4월 사이에만 사면 된다.\n",
        "  - 4월말에 매도, 10월말에 매수\n",
        "- 가격 변동이 없는 CASH 자산을 임의로 만들고, 5~10월에는 CASH를 100% 보유"
      ],
      "metadata": {
        "id": "cPPcWYjXZQGD"
      }
    },
    {
      "cell_type": "code",
      "source": [
        "class WeighAllSeasonSeason(bt.Algo):\n",
        "  def __init__(self):\n",
        "    super(WeighAllSeasonSeason, self).__init__()\n",
        "\n",
        "  def __call__(self, target):\n",
        "    current_month = target.universe[['CASH']].loc[target.now].name.month\n",
        "    if current_month >= 10 or current_month < 4: # invest\n",
        "      weights = pd.Series([0.3,0.15,0.4,0.075,0.075],\n",
        "                          ['SPY','IEF','TLT','GLD','DBC'])\n",
        "    else: # rest. all cash\n",
        "      weights = pd.Series([1.0], ['CASH'])\n",
        "\n",
        "    target.temp['weights'] = weights\n",
        "    target.temp['selected'] = list(weights.index)\n",
        "\n",
        "    return True"
      ],
      "metadata": {
        "id": "mysS75j3em31"
      },
      "execution_count": 233,
      "outputs": []
    },
    {
      "cell_type": "code",
      "source": [
        "from bt.algos import PrintDate\n",
        "s2 = bt.Strategy('all_season_season',\n",
        "                [bt.algos.RunMonthly(run_on_end_of_period=True),\n",
        "                 bt.algos.SelectAll(),\n",
        "                 WeighAllSeasonSeason(),\n",
        "                 #bt.algos.PrintTempData(),\n",
        "                 bt.algos.Rebalance(),\n",
        "                 ])\n",
        "bt2 = bt.Backtest(s2, df, initial_capital=initial_capital)"
      ],
      "metadata": {
        "id": "iL8MBX_iVR-d"
      },
      "execution_count": 234,
      "outputs": []
    },
    {
      "cell_type": "code",
      "source": [
        "res = bt.run(bt2, bt1, spy)"
      ],
      "metadata": {
        "id": "qaTnwRT3VY7r"
      },
      "execution_count": 235,
      "outputs": []
    },
    {
      "cell_type": "code",
      "source": [
        "res.display_monthly_returns()"
      ],
      "metadata": {
        "colab": {
          "base_uri": "https://localhost:8080/"
        },
        "id": "m0U9atvtjx3U",
        "outputId": "795225d8-a1ac-41a3-f30a-79e5fae2d2aa"
      },
      "execution_count": 236,
      "outputs": [
        {
          "output_type": "stream",
          "name": "stdout",
          "text": [
            "  Year    Jan    Feb    Mar    Apr    May    Jun    Jul    Aug    Sep    Oct    Nov    Dec     YTD\n",
            "------  -----  -----  -----  -----  -----  -----  -----  -----  -----  -----  -----  -----  ------\n",
            "  2006   0      0.17  -1.06   0.6       0      0      0      0      0      0   2.72  -1.18    1.21\n",
            "  2007   0      1.65  -0.39   1.99      0      0      0      0      0      0   1.41   0.42    5.17\n",
            "  2008   0.55   0.45   0.27   0.21      0      0      0      0      0      0   4.82   6.85   13.68\n",
            "  2009  -8.19  -4.25   4.77  -0.47      0      0      0      0      0      0   3.93  -3.17   -7.75\n",
            "  2010  -0.34   1.4    0.78   2.77      0      0      0      0      0      0  -0.68   0.93    4.92\n",
            "  2011  -0.75   2.43   0.31   3.09      0      0      0      0      0      0   0.86   0.98    7.08\n",
            "  2012   2.5    0.28  -1.2    1.99      0      0      0      0      0      0   0.89  -1.13    3.32\n",
            "  2013   0.22   0.31   1.13   1.83      0      0      0      0      0      0  -0.8   -0.52    2.16\n",
            "  2014   1.95   2.47   0.22   1.28      0      0      0      0      0      0   1.53   0.62    8.32\n",
            "  2015   3.9   -1.25  -0.52  -0.65      0      0      0      0      0      0  -1.3   -1.18   -1.08\n",
            "  2016   1.31   2.23   2.22   0.91      0      0      0      0      0      0  -3.31   0.57    3.88\n",
            "  2017   1.25   2.14  -0.49   1.02      0      0      0      0      0      0   1.26   1.48    6.84\n",
            "  2018   0.53  -2.81   0.71  -0.69      0      0      0      0      0      0   0.76   0.2    -1.34\n",
            "  2019   3.39   0.51   3.02   0.39      0      0      0      0      0      0   0.57   0.16    8.27\n",
            "  2020   3.27   0.18  -1.95   4.64      0      0      0      0      0      0   4.34   1.51   12.43\n",
            "  2021  -1.91  -1.52  -1.23   3.58      0      0      0      0      0      0   0.32   1.24    0.37\n",
            "  2022  -2.99  -0.64  -0.88  -6.74      0      0      0      0      0      0   0      0     -10.9\n"
          ]
        }
      ]
    },
    {
      "cell_type": "code",
      "source": [
        "res.display()"
      ],
      "metadata": {
        "colab": {
          "base_uri": "https://localhost:8080/"
        },
        "id": "xWfh4MiDVbw6",
        "outputId": "d0c0e537-c87c-4884-d38b-1e5724f8fb69"
      },
      "execution_count": 237,
      "outputs": [
        {
          "output_type": "stream",
          "name": "stdout",
          "text": [
            "Stat                 all_season_season    all_season    spy\n",
            "-------------------  -------------------  ------------  ----------\n",
            "Start                2006-02-05           2006-02-05    2006-02-05\n",
            "End                  2022-08-01           2022-08-01    2022-08-01\n",
            "Risk-free rate       0.00%                0.00%         0.00%\n",
            "\n",
            "Total Return         69.05%               190.09%       347.78%\n",
            "Daily Sharpe         0.60                 0.88          0.56\n",
            "Daily Sortino        0.90                 1.41          0.86\n",
            "CAGR                 3.24%                6.67%         9.52%\n",
            "Max Drawdown         -13.88%              -17.15%       -55.17%\n",
            "Calmar Ratio         0.23                 0.39          0.17\n",
            "\n",
            "MTD                  0.00%                0.85%         -0.30%\n",
            "3m                   0.00%                0.10%         0.13%\n",
            "6m                   -8.23%               -8.15%        -8.64%\n",
            "YTD                  -10.90%              -10.82%       -12.87%\n",
            "1Y                   -9.50%               -8.16%        -4.99%\n",
            "3Y (ann.)            0.43%                5.64%         13.51%\n",
            "5Y (ann.)            1.99%                6.49%         12.62%\n",
            "10Y (ann.)           2.67%                5.44%         13.69%\n",
            "Since Incep. (ann.)  3.24%                6.67%         9.52%\n",
            "\n",
            "Daily Sharpe         0.60                 0.88          0.56\n",
            "Daily Sortino        0.90                 1.41          0.86\n",
            "Daily Mean (ann.)    3.34%                6.76%         11.10%\n",
            "Daily Vol (ann.)     5.57%                7.67%         19.94%\n",
            "Daily Skew           -0.54                -0.40         -0.09\n",
            "Daily Kurt           17.57                5.87          14.76\n",
            "Best Day             3.02%                3.19%         14.51%\n",
            "Worst Day            -4.36%               -4.36%        -10.94%\n",
            "\n",
            "Monthly Sharpe       0.61                 0.90          0.67\n",
            "Monthly Sortino      1.01                 1.53          1.10\n",
            "Monthly Mean (ann.)  3.33%                6.74%         10.22%\n",
            "Monthly Vol (ann.)   5.48%                7.47%         15.26%\n",
            "Monthly Skew         -0.38                -0.81         -0.62\n",
            "Monthly Kurt         7.76                 2.97          1.36\n",
            "Best Month           6.85%                6.85%         12.70%\n",
            "Worst Month          -8.19%               -8.90%        -16.51%\n",
            "\n",
            "Yearly Sharpe        0.53                 0.78          0.58\n",
            "Yearly Sortino       1.08                 2.48          1.11\n",
            "Yearly Mean          3.46%                6.81%         10.57%\n",
            "Yearly Vol           6.57%                8.73%         18.14%\n",
            "Yearly Skew          -0.67                -0.40         -1.19\n",
            "Yearly Kurt          0.46                 -0.80         1.81\n",
            "Best Year            13.68%               18.84%        32.30%\n",
            "Worst Year           -10.90%              -10.82%       -36.78%\n",
            "\n",
            "Avg. Drawdown        -1.21%               -1.19%        -1.73%\n",
            "Avg. Drawdown Days   41.52                26.36         21.17\n",
            "Avg. Up Month        1.63%                1.68%         3.21%\n",
            "Avg. Down Month      -0.41%               -1.68%        -3.97%\n",
            "Win Year %           75.00%               62.50%        81.25%\n",
            "Win 12m %            92.02%               82.45%        82.45%\n"
          ]
        }
      ]
    },
    {
      "cell_type": "code",
      "source": [
        ""
      ],
      "metadata": {
        "id": "8z4FvWJ_HCmF"
      },
      "execution_count": 122,
      "outputs": []
    }
  ]
}